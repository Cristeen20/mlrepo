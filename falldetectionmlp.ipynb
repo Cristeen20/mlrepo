{
 "cells": [
  {
   "cell_type": "code",
   "execution_count": null,
   "metadata": {
    "_cell_guid": "b1076dfc-b9ad-4769-8c92-a6c4dae69d19",
    "_uuid": "8f2839f25d086af736a60e9eeb907d3b93b6e0e5"
   },
   "outputs": [],
   "source": []
  },
  {
   "cell_type": "code",
   "execution_count": 1,
   "metadata": {
    "_cell_guid": "79c7e3d0-c299-4dcb-8224-4455121ee9b0",
    "_uuid": "d629ff2d2480ee46fbb7e2d37f6b5fab8052498a"
   },
   "outputs": [],
   "source": [
    "import pandas as pd\n",
    "falldt=pd.read_csv(\"../input/falldata/falldeteciton.csv\")\n"
   ]
  },
  {
   "cell_type": "code",
   "execution_count": 2,
   "metadata": {},
   "outputs": [],
   "source": [
    "import numpy as np\n",
    "import matplotlib.pyplot as plt\n",
    "import tensorflow as tf\n",
    "from tensorflow import keras"
   ]
  },
  {
   "cell_type": "code",
   "execution_count": 3,
   "metadata": {},
   "outputs": [
    {
     "name": "stdout",
     "output_type": "stream",
     "text": [
      "[109  50  74 ... 470 514 622]\n"
     ]
    }
   ],
   "source": [
    "tf.random.set_seed(42)\n",
    "np.random.seed(42)\n",
    "X=falldt.iloc[:,:-1]\n",
    "y=falldt.iloc[:,-1]\n",
    "from sklearn.preprocessing import LabelEncoder\n",
    "l=LabelEncoder()\n",
    "y=l.fit_transform(y)\n",
    "print(y)"
   ]
  },
  {
   "cell_type": "code",
   "execution_count": 4,
   "metadata": {},
   "outputs": [],
   "source": [
    "from sklearn.model_selection import train_test_split\n",
    "X_train,X_test,y_train,y_test=train_test_split(X,y,test_size=0.5,random_state=42)"
   ]
  },
  {
   "cell_type": "code",
   "execution_count": 5,
   "metadata": {},
   "outputs": [],
   "source": [
    "from sklearn.preprocessing import StandardScaler\n",
    "sc = StandardScaler()\n",
    "sc.fit(X_train)\n",
    "X_train_std=sc.fit_transform(X_train)\n",
    "X_test_std=sc.fit_transform(X_test)"
   ]
  },
  {
   "cell_type": "code",
   "execution_count": 6,
   "metadata": {},
   "outputs": [
    {
     "name": "stdout",
     "output_type": "stream",
     "text": [
      "Model: \"sequential\"\n",
      "_________________________________________________________________\n",
      "Layer (type)                 Output Shape              Param #   \n",
      "=================================================================\n",
      "dense (Dense)                (None, 250)               1750      \n",
      "_________________________________________________________________\n",
      "dense_1 (Dense)              (None, 20000)             5020000   \n",
      "=================================================================\n",
      "Total params: 5,021,750\n",
      "Trainable params: 5,021,750\n",
      "Non-trainable params: 0\n",
      "_________________________________________________________________\n"
     ]
    }
   ],
   "source": [
    "model_MLP = keras.models.Sequential()\n",
    "model_MLP.add(keras.layers.Dense(units=250, activation='relu',\n",
    " input_shape= X_train.shape[1:]))\n",
    "\n",
    "model_MLP.add(keras.layers.Dense(units=20000, activation='softmax'))\n",
    "model_MLP.summary()"
   ]
  },
  {
   "cell_type": "code",
   "execution_count": 7,
   "metadata": {},
   "outputs": [
    {
     "name": "stdout",
     "output_type": "stream",
     "text": [
      "Train on 6552 samples, validate on 1639 samples\n",
      "Epoch 1/5\n",
      "6552/6552 [==============================] - 12s 2ms/sample - loss: 5.9494 - accuracy: 0.1313 - val_loss: 4.7338 - val_accuracy: 0.1910\n",
      "Epoch 2/5\n",
      "6552/6552 [==============================] - 12s 2ms/sample - loss: 3.9500 - accuracy: 0.2393 - val_loss: 4.5648 - val_accuracy: 0.2550\n",
      "Epoch 3/5\n",
      "6552/6552 [==============================] - 12s 2ms/sample - loss: 3.5065 - accuracy: 0.2946 - val_loss: 4.4944 - val_accuracy: 0.2910\n",
      "Epoch 4/5\n",
      "6552/6552 [==============================] - 12s 2ms/sample - loss: 3.2110 - accuracy: 0.3356 - val_loss: 4.5025 - val_accuracy: 0.3276\n",
      "Epoch 5/5\n",
      "6552/6552 [==============================] - 11s 2ms/sample - loss: 2.9836 - accuracy: 0.3616 - val_loss: 4.5650 - val_accuracy: 0.3435\n",
      "8191/8191 [==============================] - 3s 332us/sample - loss: 4.4057 - accuracy: 0.3604\n",
      "4.405651120588814 0.36039555\n"
     ]
    }
   ],
   "source": [
    "model_MLP.compile(loss='sparse_categorical_crossentropy',optimizer='adam', metrics=['accuracy'])\n",
    "\n",
    "model_MLP.fit(x=X_train_std, y=y_train, validation_split=0.2, epochs=5,batch_size=16)\n",
    "\n",
    "test_loss, test_accuracy = model_MLP.evaluate(x=X_test_std, y=y_test)\n",
    "print(test_loss, test_accuracy)"
   ]
  },
  {
   "cell_type": "code",
   "execution_count": null,
   "metadata": {},
   "outputs": [],
   "source": []
  }
 ],
 "metadata": {
  "kernelspec": {
   "display_name": "Python 3",
   "language": "python",
   "name": "python3"
  },
  "language_info": {
   "codemirror_mode": {
    "name": "ipython",
    "version": 3
   },
   "file_extension": ".py",
   "mimetype": "text/x-python",
   "name": "python",
   "nbconvert_exporter": "python",
   "pygments_lexer": "ipython3",
   "version": "3.6.6"
  }
 },
 "nbformat": 4,
 "nbformat_minor": 1
}
