{
  "cells": [
    {
      "cell_type": "markdown",
      "metadata": {
        "tags": [
          "pdf-title"
        ],
        "id": "WIVqku3OihAN"
      },
      "source": [
        "# Assignment 1-2: Support Vector Machine\n",
        "\n",
        "## Multiclass Support Vector Machine exercise\n",
        "\n",
        "\n",
        "In this exercise you will:\n",
        "    \n",
        "- implement a fully-vectorized **loss function** for the SVM\n",
        "- implement the fully-vectorized expression for its **analytic gradient**\n",
        "- **check your implementation** using numerical gradient\n"
      ]
    },
    {
      "cell_type": "markdown",
      "metadata": {
        "tags": [
          "pdf-ignore"
        ],
        "id": "4Wt_o63FihAP"
      },
      "source": [
        "## CIFAR-10 Data Loading and Preprocessing"
      ]
    },
    {
      "cell_type": "code",
      "execution_count": 1,
      "metadata": {
        "colab": {
          "base_uri": "https://localhost:8080/"
        },
        "id": "fJ8asDK0ihAQ",
        "outputId": "2ec2b294-25da-4f3b-f407-a889c542bbb3"
      },
      "outputs": [
        {
          "output_type": "stream",
          "name": "stdout",
          "text": [
            "Requirement already satisfied: scikit-learn in /usr/local/lib/python3.10/dist-packages (1.2.2)\n",
            "Requirement already satisfied: numpy>=1.17.3 in /usr/local/lib/python3.10/dist-packages (from scikit-learn) (1.25.2)\n",
            "Requirement already satisfied: scipy>=1.3.2 in /usr/local/lib/python3.10/dist-packages (from scikit-learn) (1.11.4)\n",
            "Requirement already satisfied: joblib>=1.1.1 in /usr/local/lib/python3.10/dist-packages (from scikit-learn) (1.4.2)\n",
            "Requirement already satisfied: threadpoolctl>=2.0.0 in /usr/local/lib/python3.10/dist-packages (from scikit-learn) (3.5.0)\n"
          ]
        }
      ],
      "source": [
        "!pip install scikit-learn"
      ]
    },
    {
      "cell_type": "code",
      "execution_count": 40,
      "metadata": {
        "id": "WrHhi-uMihAR"
      },
      "outputs": [],
      "source": [
        "from data_utils import load_pickle,load_CIFAR10,load_CIFAR_batch\n",
        "from download import _print_download_progress,maybe_download_and_extract\n",
        "\n",
        "\n",
        "import numpy as np\n",
        "import matplotlib.pyplot as plt\n",
        "import time"
      ]
    },
    {
      "cell_type": "code",
      "execution_count": 18,
      "metadata": {
        "tags": [
          "pdf-ignore"
        ],
        "colab": {
          "base_uri": "https://localhost:8080/"
        },
        "id": "4kcb5vhhihAS",
        "outputId": "e1b15f40-a8d5-4fcc-84d7-47164387a4b1"
      },
      "outputs": [
        {
          "output_type": "stream",
          "name": "stdout",
          "text": [
            "Data has apparently already been downloaded and unpacked.\n"
          ]
        }
      ],
      "source": [
        "# Load the raw CIFAR-10 data.\n",
        "url = \"https://www.cs.toronto.edu/~kriz/cifar-10-python.tar.gz\"\n",
        "download_dir = \"./data\"\n",
        "maybe_download_and_extract(url,download_dir)\n",
        "\n",
        "# %%\n",
        "cifar10_dir = '/content/data/CIFAR-10/cifar-10-batches-py'\n"
      ]
    },
    {
      "cell_type": "code",
      "source": [
        "X_train,y_train,X_test,y_test = load_CIFAR10(cifar10_dir)\n"
      ],
      "metadata": {
        "id": "MOpqhGB1vyey"
      },
      "execution_count": 27,
      "outputs": []
    },
    {
      "cell_type": "code",
      "source": [
        "print('Train data shape: ', X_train.shape)\n",
        "print('Train labels shape: ', y_train.shape)"
      ],
      "metadata": {
        "colab": {
          "base_uri": "https://localhost:8080/"
        },
        "id": "q_QEVKUxxIfm",
        "outputId": "98920158-de5e-4ee1-b9e5-3b1ca1562a3c"
      },
      "execution_count": 28,
      "outputs": [
        {
          "output_type": "stream",
          "name": "stdout",
          "text": [
            "Train data shape:  (50000, 32, 32, 3)\n",
            "Train labels shape:  (50000,)\n"
          ]
        }
      ]
    },
    {
      "cell_type": "code",
      "source": [
        "\n",
        "# Set the number of samples for each set\n",
        "num_training = 49000\n",
        "num_validation = 1000\n",
        "num_test = 1000\n",
        "num_dev = 500"
      ],
      "metadata": {
        "id": "6ZBEV5CAv1ey"
      },
      "execution_count": 29,
      "outputs": []
    },
    {
      "cell_type": "code",
      "source": [
        "# Our validation set will be num_validation points from the original training set.\n",
        "X_val = X_train[num_training:num_training + num_validation]\n",
        "y_val = y_train[num_training:num_training + num_validation]\n",
        "\n",
        "# Our training set will be the first num_train points from the original training set.\n",
        "X_train = X_train[:num_training]\n",
        "y_train = y_train[:num_training]\n",
        "\n",
        "# We will also make a development set, which is a small subset of the training set.\n",
        "mask = np.random.choice(num_training, num_dev, replace=False)\n",
        "X_dev = X_train[mask]\n",
        "y_dev = y_train[mask]\n",
        "\n",
        "# We use the first num_test points of the original test set as our test set.\n",
        "X_test = X_test[:num_test]\n",
        "y_test = y_test[:num_test]\n",
        "\n",
        "# Print shapes to verify the splits\n",
        "print('Train data shape: ', X_train.shape)\n",
        "print('Train labels shape: ', y_train.shape)\n",
        "print('Validation data shape: ', X_val.shape)\n",
        "print('Validation labels shape: ', y_val.shape)\n",
        "print('Development data shape: ', X_dev.shape)\n",
        "print('Development labels shape: ', y_dev.shape)\n",
        "print('Test data shape: ', X_test.shape)\n",
        "print('Test labels shape: ', y_test.shape)"
      ],
      "metadata": {
        "colab": {
          "base_uri": "https://localhost:8080/"
        },
        "id": "Mvgioubowr5l",
        "outputId": "803cc5b0-a5ae-4714-b5bc-70834396b3c8"
      },
      "execution_count": 30,
      "outputs": [
        {
          "output_type": "stream",
          "name": "stdout",
          "text": [
            "Train data shape:  (49000, 32, 32, 3)\n",
            "Train labels shape:  (49000,)\n",
            "Validation data shape:  (1000, 32, 32, 3)\n",
            "Validation labels shape:  (1000,)\n",
            "Development data shape:  (500, 32, 32, 3)\n",
            "Development labels shape:  (500,)\n",
            "Test data shape:  (1000, 32, 32, 3)\n",
            "Test labels shape:  (1000,)\n"
          ]
        }
      ]
    },
    {
      "cell_type": "code",
      "source": [
        "# Preprocessing: reshape the image data into rows\n",
        "X_train = np.reshape(X_train, (X_train.shape[0], -1))\n",
        "X_val = np.reshape(X_val, (X_val.shape[0], -1))\n",
        "X_test = np.reshape(X_test, (X_test.shape[0], -1))\n",
        "X_dev = np.reshape(X_dev, (X_dev.shape[0], -1))\n",
        "\n",
        "# As a sanity check, print out the shapes of the data\n",
        "print('Training data shape: ', X_train.shape)\n",
        "print('Validation data shape: ', X_val.shape)\n",
        "print('Test data shape: ', X_test.shape)\n",
        "print('Development data shape: ', X_dev.shape)"
      ],
      "metadata": {
        "colab": {
          "base_uri": "https://localhost:8080/"
        },
        "id": "2SGcLLAIw2U-",
        "outputId": "c09e9f05-8817-4798-b4af-9a8d3fd5615e"
      },
      "execution_count": 31,
      "outputs": [
        {
          "output_type": "stream",
          "name": "stdout",
          "text": [
            "Training data shape:  (49000, 3072)\n",
            "Validation data shape:  (1000, 3072)\n",
            "Test data shape:  (1000, 3072)\n",
            "Development data shape:  (500, 3072)\n"
          ]
        }
      ]
    },
    {
      "cell_type": "code",
      "source": [
        "# Preprocessing: subtract the mean image\n",
        "# first: compute the image mean based on the training data\n",
        "mean_image = np.mean(X_train, axis=0)\n",
        "print(mean_image[:10]) # print a few of the elements\n",
        "plt.figure(figsize=(4,4))\n",
        "plt.imshow(mean_image.reshape((32,32,3)).astype('uint8')) # visualize the mean image\n",
        "plt.show()\n",
        "\n",
        "# second: subtract the mean image from train and test data\n",
        "X_train -= mean_image\n",
        "X_val -= mean_image\n",
        "X_test -= mean_image\n",
        "X_dev -= mean_image\n",
        "\n",
        "# third: append the bias dimension of ones (i.e. bias trick) so that our SVM\n",
        "# only has to worry about optimizing a single weight matrix W.\n",
        "X_train = np.hstack([X_train, np.ones((X_train.shape[0], 1))])\n",
        "X_val = np.hstack([X_val, np.ones((X_val.shape[0], 1))])\n",
        "X_test = np.hstack([X_test, np.ones((X_test.shape[0], 1))])\n",
        "X_dev = np.hstack([X_dev, np.ones((X_dev.shape[0], 1))])"
      ],
      "metadata": {
        "colab": {
          "base_uri": "https://localhost:8080/",
          "height": 404
        },
        "id": "_5FRgIRKxTju",
        "outputId": "aa008914-68fe-405a-9fbb-e5d18ebbc435"
      },
      "execution_count": 34,
      "outputs": [
        {
          "output_type": "stream",
          "name": "stdout",
          "text": [
            "[130.64189796 135.98173469 132.47391837 130.05569388 135.34804082\n",
            " 131.75402041 130.96055102 136.14328571 132.47636735 131.48467347]\n"
          ]
        },
        {
          "output_type": "display_data",
          "data": {
            "text/plain": [
              "<Figure size 400x400 with 1 Axes>"
            ],
            "image/png": "[encoded data removed]"
          },
          "metadata": {}
        }
      ]
    },
    {
      "cell_type": "markdown",
      "metadata": {
        "id": "87JwgaUHihAT"
      },
      "source": [
        "## SVM Classifier\n",
        "\n",
        "You need to complete `svm_loss_naive` which uses for loops to evaluate the multiclass SVM loss function."
      ]
    },
    {
      "cell_type": "code",
      "execution_count": 35,
      "metadata": {
        "id": "j6jWQLsfihAT"
      },
      "outputs": [],
      "source": [
        "from builtins import range\n",
        "import numpy as np\n",
        "from random import shuffle\n",
        "from past.builtins import xrange\n",
        "\n",
        "def svm_loss_naive(W, X, y, reg):\n",
        "\n",
        "    dW = np.zeros(W.shape)\n",
        "\n",
        "    num_classes = W.shape[1]\n",
        "    num_train = X.shape[0]\n",
        "    loss = 0.0\n",
        "\n",
        "    for i in range(num_train):\n",
        "        scores = X[i].dot(W)\n",
        "        correct_class_score = scores[y[i]]\n",
        "        for j in range(num_classes):\n",
        "            if j == y[i]:\n",
        "                continue\n",
        "            margin = scores[j] - correct_class_score + 1\n",
        "            if margin > 0:\n",
        "                loss += margin\n",
        "                dW[:, j] += X[i]\n",
        "                dW[:, y[i]] -= X[i]\n",
        "\n",
        "    loss /= num_train\n",
        "    loss += reg * np.sum(W * W)\n",
        "\n",
        "    dW /= num_train\n",
        "    dW += 2 * reg * W\n",
        "\n",
        "    return loss, dW\n",
        "\n"
      ]
    },
    {
      "cell_type": "code",
      "execution_count": 36,
      "metadata": {
        "colab": {
          "base_uri": "https://localhost:8080/"
        },
        "id": "7JxAW0kmihAU",
        "outputId": "8fed086d-ace1-4fdb-82ab-60a3a8134c98"
      },
      "outputs": [
        {
          "output_type": "stream",
          "name": "stdout",
          "text": [
            "loss: 9.288473\n"
          ]
        }
      ],
      "source": [
        "# generate a random SVM weight matrix of small numbers\n",
        "W = np.random.randn(3073, 10) * 0.0001\n",
        "\n",
        "loss, grad = svm_loss_naive(W, X_dev, y_dev, 0.000005)\n",
        "print('loss: %f' % (loss, ))"
      ]
    },
    {
      "cell_type": "markdown",
      "metadata": {
        "id": "cR5q3WGhihAU"
      },
      "source": [
        "The `grad` returned from the function above is right now all zero. Derive and implement the gradient for the SVM cost function and implement it inline inside the function `svm_loss_naive`. You will find it helpful to interleave your new code inside the existing function.\n",
        "\n",
        "To check that you have correctly implemented the gradient correctly, you can numerically estimate the gradient of the loss function and compare the numeric estimate to the gradient that you computed. We have provided code that does this for you:"
      ]
    },
    {
      "cell_type": "code",
      "execution_count": 37,
      "metadata": {
        "colab": {
          "base_uri": "https://localhost:8080/"
        },
        "id": "_FgUKKiqihAU",
        "outputId": "ace38330-8acd-4470-f5d5-5452fea730ad"
      },
      "outputs": [
        {
          "output_type": "stream",
          "name": "stdout",
          "text": [
            "numerical: 29.191349 analytic: 29.191349, relative error: 6.357104e-12\n",
            "numerical: 10.209957 analytic: 10.209957, relative error: 2.832170e-11\n",
            "numerical: -1.215051 analytic: -1.215051, relative error: 2.688559e-10\n",
            "numerical: -5.795541 analytic: -5.795541, relative error: 5.562482e-11\n",
            "numerical: -13.091460 analytic: -13.114688, relative error: 8.863514e-04\n",
            "numerical: 29.382702 analytic: 29.382702, relative error: 7.541749e-12\n",
            "numerical: -1.755797 analytic: -1.755797, relative error: 1.755237e-10\n",
            "numerical: 32.615205 analytic: 32.615205, relative error: 3.625129e-13\n",
            "numerical: 0.260218 analytic: 0.260218, relative error: 8.769583e-10\n",
            "numerical: -22.556951 analytic: -22.556951, relative error: 5.090785e-12\n",
            "numerical: 1.625470 analytic: 1.658575, relative error: 1.008040e-02\n",
            "numerical: -9.152016 analytic: -9.152016, relative error: 2.950529e-12\n",
            "numerical: -29.370870 analytic: -29.370870, relative error: 9.943131e-12\n",
            "numerical: -18.529368 analytic: -18.529368, relative error: 1.331978e-12\n",
            "numerical: 22.501145 analytic: 22.526252, relative error: 5.576056e-04\n",
            "numerical: -4.514983 analytic: -4.514983, relative error: 3.577415e-11\n",
            "numerical: 10.955022 analytic: 10.955022, relative error: 2.118579e-11\n",
            "numerical: 8.175088 analytic: 8.175088, relative error: 1.455891e-11\n",
            "numerical: -18.378410 analytic: -18.378410, relative error: 2.265969e-12\n",
            "numerical: 2.513381 analytic: 2.513381, relative error: 3.817457e-11\n"
          ]
        }
      ],
      "source": [
        "# Once you've implemented the gradient, recompute it with the code below\n",
        "# and gradient check it with the function we provided for you\n",
        "\n",
        "# Compute the loss and its gradient at W.\n",
        "loss, grad = svm_loss_naive(W, X_dev, y_dev, 0.0)\n",
        "\n",
        "# Numerically compute the gradient along several randomly chosen dimensions, and\n",
        "# compare them with your analytically computed gradient. The numbers should match\n",
        "# almost exactly along all dimensions.\n",
        "from gradient_check import grad_check_sparse\n",
        "f = lambda w: svm_loss_naive(w, X_dev, y_dev, 0.0)[0]\n",
        "grad_numerical = grad_check_sparse(f, W, grad)\n",
        "\n",
        "# do the gradient check once again with regularization turned on\n",
        "# you didn't forget the regularization gradient did you?\n",
        "loss, grad = svm_loss_naive(W, X_dev, y_dev, 5e1)\n",
        "f = lambda w: svm_loss_naive(w, X_dev, y_dev, 5e1)[0]\n",
        "grad_numerical = grad_check_sparse(f, W, grad)"
      ]
    },
    {
      "cell_type": "markdown",
      "metadata": {
        "id": "e7XMhY5kihAV"
      },
      "source": [
        "Complete the implementation of svm_loss_vectorized, and compute the gradient of the loss function in a vectorized way."
      ]
    },
    {
      "cell_type": "code",
      "execution_count": 41,
      "metadata": {
        "id": "sUasAsyVihAV"
      },
      "outputs": [],
      "source": [
        "def svm_loss_vectorized(W, X, y, reg):\n",
        "    \"\"\"\n",
        "    Structured SVM loss function, vectorized implementation.\n",
        "\n",
        "    Inputs and outputs are the same as svm_loss_naive.\n",
        "    \"\"\"\n",
        "    loss = 0.0\n",
        "    dW = np.zeros(W.shape)\n",
        "\n",
        "    num_train = X.shape[0]\n",
        "    scores = X.dot(W)\n",
        "    correct_class_scores = scores[np.arange(num_train), y]\n",
        "    margins = np.maximum(0, scores - correct_class_scores[:, np.newaxis] + 1)\n",
        "    margins[np.arange(num_train), y] = 0\n",
        "    loss = np.sum(margins) / num_train\n",
        "    loss += reg * np.sum(W * W)\n",
        "\n",
        "    binary = margins > 0\n",
        "    binary = binary.astype(int)\n",
        "    incorrect_counts = np.sum(binary, axis=1)\n",
        "    binary[np.arange(num_train), y] = -incorrect_counts\n",
        "    dW = X.T.dot(binary) / num_train\n",
        "    dW += 2 * reg * W\n",
        "\n",
        "    return loss, dW\n"
      ]
    },
    {
      "cell_type": "code",
      "execution_count": 42,
      "metadata": {
        "id": "vectorized_time_2",
        "colab": {
          "base_uri": "https://localhost:8080/"
        },
        "outputId": "35215a9a-76c2-41d0-f9cd-b1e0621e4405"
      },
      "outputs": [
        {
          "output_type": "stream",
          "name": "stdout",
          "text": [
            "Naive loss and gradient: computed in 0.110247s\n",
            "Vectorized loss and gradient: computed in 0.012631s\n",
            "difference: 0.000000\n"
          ]
        }
      ],
      "source": [
        "# The naive implementation and the vectorized implementation should match, but\n",
        "# the vectorized version should still be much faster.\n",
        "tic = time.time()\n",
        "_, grad_naive = svm_loss_naive(W, X_dev, y_dev, 0.000005)\n",
        "toc = time.time()\n",
        "print('Naive loss and gradient: computed in %fs' % (toc - tic))\n",
        "\n",
        "tic = time.time()\n",
        "_, grad_vectorized = svm_loss_vectorized(W, X_dev, y_dev, 0.000005)\n",
        "toc = time.time()\n",
        "print('Vectorized loss and gradient: computed in %fs' % (toc - tic))\n",
        "\n",
        "# The loss is a single number, so it is easy to compare the values computed\n",
        "# by the two implementations. The gradient on the other hand is a matrix, so\n",
        "# we use the Frobenius norm to compare them.\n",
        "difference = np.linalg.norm(grad_naive - grad_vectorized, ord='fro')\n",
        "print('difference: %f' % difference)"
      ]
    },
    {
      "cell_type": "markdown",
      "metadata": {
        "id": "yU9jCg-gihAV"
      },
      "source": [
        "### Discussion"
      ]
    },
    {
      "cell_type": "markdown",
      "metadata": {
        "id": "q1S904VtihAV"
      },
      "source": []
    },
    {
      "cell_type": "markdown",
      "metadata": {
        "id": "E0hTFr54ihAV"
      },
      "source": []
    }
  ],
  "metadata": {
    "kernelspec": {
      "display_name": "new_virtual_environment",
      "language": "python",
      "name": "python3"
    },
    "language_info": {
      "codemirror_mode": {
        "name": "ipython",
        "version": 3
      },
      "file_extension": ".py",
      "mimetype": "text/x-python",
      "name": "python",
      "nbconvert_exporter": "python",
      "pygments_lexer": "ipython3",
      "version": "3.11.6"
    },
    "colab": {
      "provenance": []
    }
  },
  "nbformat": 4,
  "nbformat_minor": 0
}